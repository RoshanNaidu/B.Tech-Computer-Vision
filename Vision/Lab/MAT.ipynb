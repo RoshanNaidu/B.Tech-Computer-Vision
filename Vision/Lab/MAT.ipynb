{
  "nbformat": 4,
  "nbformat_minor": 0,
  "metadata": {
    "colab": {
      "provenance": []
    },
    "kernelspec": {
      "name": "python3",
      "display_name": "Python 3"
    },
    "language_info": {
      "name": "python"
    }
  },
  "cells": [
    {
      "cell_type": "code",
      "execution_count": 2,
      "metadata": {
        "id": "-ViF5mu3F-1i"
      },
      "outputs": [],
      "source": [
        "import numpy as np\n",
        "import matplotlib.pyplot as plt\n",
        "from scipy.ndimage import convolve\n",
        "from skimage.color import rgb2hsv\n",
        "\n",
        "# Define the grayscale image matrix\n",
        "image = np.array([\n",
        "    [20, 20, 20, 20, 20, 20, 20, 20, 20, 20],\n",
        "    [20, 50, 50, 50, 50, 50, 50, 50, 50, 20],\n",
        "    [20, 50, 100, 100, 100, 100, 100, 100, 50, 20],\n",
        "    [20, 50, 100, 150, 150, 150, 150, 100, 50, 20],\n",
        "    [20, 50, 100, 150, 200, 200, 150, 100, 50, 20],\n",
        "    [20, 50, 100, 150, 150, 150, 150, 100, 50, 20],\n",
        "    [10, 20, 50, 100, 150, 200, 150, 100, 50, 20],\n",
        "    [10, 20, 50, 100, 150, 150, 100, 50, 20, 10],\n",
        "    [20, 50, 50, 50, 100, 100, 50, 50, 50, 20],\n",
        "    [20, 20, 20, 20, 20, 20, 20, 20, 20, 20]\n",
        "], dtype=np.float32)"
      ]
    },
    {
      "cell_type": "code",
      "source": [
        "# Define Sobel and Roberts kernels\n",
        "sobel_x = np.array([[1, 0, -1], [2, 0, -2], [1, 0, -1]], dtype=np.float32)\n",
        "sobel_y = np.array([[1, 2, 1], [0, 0, 0], [-1, -2, -1]], dtype=np.float32)\n",
        "\n",
        "roberts_x = np.array([[1, 0], [0, -1]], dtype=np.float32)\n",
        "roberts_y = np.array([[0, 1], [-1, 0]], dtype=np.float32)"
      ],
      "metadata": {
        "id": "faxu8Hb2GUHJ"
      },
      "execution_count": 3,
      "outputs": []
    },
    {
      "cell_type": "code",
      "source": [
        "# Apply Sobel operator\n",
        "sobel_edges_x = convolve(image, sobel_x)\n",
        "sobel_edges_y = convolve(image, sobel_y)\n",
        "sobel_edges = np.sqrt(sobel_edges_x**2 + sobel_edges_y**2)\n"
      ],
      "metadata": {
        "id": "wQCeApK_GX14"
      },
      "execution_count": 5,
      "outputs": []
    },
    {
      "cell_type": "code",
      "source": [
        "# Apply Roberts operator\n",
        "roberts_edges_x = convolve(image, roberts_x)\n",
        "roberts_edges_y = convolve(image, roberts_y)\n",
        "roberts_edges = np.sqrt(roberts_edges_x**2 + roberts_edges_y**2)"
      ],
      "metadata": {
        "id": "8yZyWPwpGbgQ"
      },
      "execution_count": 6,
      "outputs": []
    },
    {
      "cell_type": "code",
      "source": [
        "# Plotting the original and edge-detected images\n",
        "fig, ax = plt.subplots(1, 3, figsize=(12, 4))\n",
        "ax[0].imshow(image, cmap='gray')\n",
        "ax[0].set_title(\"Original Image\")\n",
        "ax[1].imshow(sobel_edges, cmap='gray')\n",
        "ax[1].set_title(\"Sobel Edge Detection\")\n",
        "ax[2].imshow(roberts_edges, cmap='gray')\n",
        "ax[2].set_title(\"Roberts Edge Detection\")\n",
        "for a in ax:\n",
        "    a.axis('off')\n",
        "plt.show()"
      ],
      "metadata": {
        "colab": {
          "base_uri": "https://localhost:8080/",
          "height": 332
        },
        "id": "5o6IrksoGgth",
        "outputId": "0f6d7134-7897-465e-e899-2aa40b7134b9"
      },
      "execution_count": 7,
      "outputs": [
        {
          "output_type": "display_data",
          "data": {
            "text/plain": [
              "<Figure size 1200x400 with 3 Axes>"
            ],
            "image/png": "[encoded data removed]"
          },
          "metadata": {}
        }
      ]
    },
    {
      "cell_type": "code",
      "source": [
        "# Region-growing algorithm\n",
        "def region_growing(image, seed, threshold=10):\n",
        "    segmented = np.zeros_like(image, dtype=bool)\n",
        "    region_mean = image[seed]\n",
        "    to_process = [seed]\n",
        "\n",
        "    while to_process:\n",
        "        x, y = to_process.pop()\n",
        "        if segmented[x, y]:\n",
        "            continue\n",
        "        segmented[x, y] = True\n",
        "\n",
        "        neighbors = [(x+dx, y+dy) for dx in [-1, 1, 0, 0] for dy in [0, 0, -1, 1]]\n",
        "        for nx, ny in neighbors:\n",
        "            if (0 <= nx < image.shape[0]) and (0 <= ny < image.shape[1]) and not segmented[nx, ny]:\n",
        "                if abs(image[nx, ny] - region_mean) <= threshold:\n",
        "                    to_process.append((nx, ny))\n",
        "                    region_mean = (region_mean + image[nx, ny]) / 2  # Update mean with new region pixel\n",
        "\n",
        "    return segmented"
      ],
      "metadata": {
        "id": "knMznJZ4GlCp"
      },
      "execution_count": 8,
      "outputs": []
    },
    {
      "cell_type": "code",
      "source": [
        "# Applying region growing from a central seed\n",
        "segmentation = region_growing(image, (5, 5), threshold=10)"
      ],
      "metadata": {
        "id": "NJLAS76lGpEp"
      },
      "execution_count": 9,
      "outputs": []
    },
    {
      "cell_type": "code",
      "source": [
        "# Converting the segmented region to HSI\n",
        "segmentation_rgb = np.dstack([segmentation]*3).astype(float) * image.max()\n",
        "segmentation_hsi = rgb2hsv(segmentation_rgb)"
      ],
      "metadata": {
        "id": "HSP3ZJjiGr_g"
      },
      "execution_count": 10,
      "outputs": []
    },
    {
      "cell_type": "code",
      "source": [
        "# Display segmented region and HSI values\n",
        "plt.figure(figsize=(6, 4))\n",
        "plt.imshow(segmentation, cmap='gray')\n",
        "plt.title(\"Segmented Region (Region Growing)\")\n",
        "plt.axis('off')\n",
        "plt.show()\n",
        "\n",
        "print(\"HSI values of segmented region:\")\n",
        "print(segmentation_hsi)"
      ],
      "metadata": {
        "colab": {
          "base_uri": "https://localhost:8080/",
          "height": 1000
        },
        "id": "4uRQkxlBGuzS",
        "outputId": "3c357e84-0ffe-4c7b-cc49-305af758a367"
      },
      "execution_count": 11,
      "outputs": [
        {
          "output_type": "display_data",
          "data": {
            "text/plain": [
              "<Figure size 600x400 with 1 Axes>"
            ],
            "image/png": "[encoded data removed]"
          },
          "metadata": {}
        },
        {
          "output_type": "stream",
          "name": "stdout",
          "text": [
            "HSI values of segmented region:\n",
            "[[[  0.   0.   0.]\n",
            "  [  0.   0.   0.]\n",
            "  [  0.   0.   0.]\n",
            "  [  0.   0.   0.]\n",
            "  [  0.   0.   0.]\n",
            "  [  0.   0.   0.]\n",
            "  [  0.   0.   0.]\n",
            "  [  0.   0.   0.]\n",
            "  [  0.   0.   0.]\n",
            "  [  0.   0.   0.]]\n",
            "\n",
            " [[  0.   0.   0.]\n",
            "  [  0.   0.   0.]\n",
            "  [  0.   0.   0.]\n",
            "  [  0.   0.   0.]\n",
            "  [  0.   0.   0.]\n",
            "  [  0.   0.   0.]\n",
            "  [  0.   0.   0.]\n",
            "  [  0.   0.   0.]\n",
            "  [  0.   0.   0.]\n",
            "  [  0.   0.   0.]]\n",
            "\n",
            " [[  0.   0.   0.]\n",
            "  [  0.   0.   0.]\n",
            "  [  0.   0.   0.]\n",
            "  [  0.   0.   0.]\n",
            "  [  0.   0.   0.]\n",
            "  [  0.   0.   0.]\n",
            "  [  0.   0.   0.]\n",
            "  [  0.   0.   0.]\n",
            "  [  0.   0.   0.]\n",
            "  [  0.   0.   0.]]\n",
            "\n",
            " [[  0.   0.   0.]\n",
            "  [  0.   0.   0.]\n",
            "  [  0.   0.   0.]\n",
            "  [  0.   0. 200.]\n",
            "  [  0.   0. 200.]\n",
            "  [  0.   0. 200.]\n",
            "  [  0.   0. 200.]\n",
            "  [  0.   0.   0.]\n",
            "  [  0.   0.   0.]\n",
            "  [  0.   0.   0.]]\n",
            "\n",
            " [[  0.   0.   0.]\n",
            "  [  0.   0.   0.]\n",
            "  [  0.   0.   0.]\n",
            "  [  0.   0. 200.]\n",
            "  [  0.   0.   0.]\n",
            "  [  0.   0.   0.]\n",
            "  [  0.   0. 200.]\n",
            "  [  0.   0.   0.]\n",
            "  [  0.   0.   0.]\n",
            "  [  0.   0.   0.]]\n",
            "\n",
            " [[  0.   0.   0.]\n",
            "  [  0.   0.   0.]\n",
            "  [  0.   0.   0.]\n",
            "  [  0.   0. 200.]\n",
            "  [  0.   0. 200.]\n",
            "  [  0.   0. 200.]\n",
            "  [  0.   0. 200.]\n",
            "  [  0.   0.   0.]\n",
            "  [  0.   0.   0.]\n",
            "  [  0.   0.   0.]]\n",
            "\n",
            " [[  0.   0.   0.]\n",
            "  [  0.   0.   0.]\n",
            "  [  0.   0.   0.]\n",
            "  [  0.   0.   0.]\n",
            "  [  0.   0. 200.]\n",
            "  [  0.   0.   0.]\n",
            "  [  0.   0. 200.]\n",
            "  [  0.   0.   0.]\n",
            "  [  0.   0.   0.]\n",
            "  [  0.   0.   0.]]\n",
            "\n",
            " [[  0.   0.   0.]\n",
            "  [  0.   0.   0.]\n",
            "  [  0.   0.   0.]\n",
            "  [  0.   0.   0.]\n",
            "  [  0.   0. 200.]\n",
            "  [  0.   0. 200.]\n",
            "  [  0.   0.   0.]\n",
            "  [  0.   0.   0.]\n",
            "  [  0.   0.   0.]\n",
            "  [  0.   0.   0.]]\n",
            "\n",
            " [[  0.   0.   0.]\n",
            "  [  0.   0.   0.]\n",
            "  [  0.   0.   0.]\n",
            "  [  0.   0.   0.]\n",
            "  [  0.   0.   0.]\n",
            "  [  0.   0.   0.]\n",
            "  [  0.   0.   0.]\n",
            "  [  0.   0.   0.]\n",
            "  [  0.   0.   0.]\n",
            "  [  0.   0.   0.]]\n",
            "\n",
            " [[  0.   0.   0.]\n",
            "  [  0.   0.   0.]\n",
            "  [  0.   0.   0.]\n",
            "  [  0.   0.   0.]\n",
            "  [  0.   0.   0.]\n",
            "  [  0.   0.   0.]\n",
            "  [  0.   0.   0.]\n",
            "  [  0.   0.   0.]\n",
            "  [  0.   0.   0.]\n",
            "  [  0.   0.   0.]]]\n"
          ]
        }
      ]
    }
  ]
}